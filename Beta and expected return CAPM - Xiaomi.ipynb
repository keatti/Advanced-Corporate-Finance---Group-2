{
 "cells": [
  {
   "cell_type": "code",
   "execution_count": 5,
   "id": "615e5d50",
   "metadata": {},
   "outputs": [],
   "source": [
    "import pandas as pd\n",
    "import pandas_datareader.data as reader\n",
    "import datetime as dt\n",
    "import statsmodels.api as sm\n",
    "import matplotlib.pyplot as plt\n",
    "import getFamaFrenchFactors as gff\n",
    "import seaborn as sns"
   ]
  },
  {
   "cell_type": "code",
   "execution_count": 18,
   "id": "86f61267",
   "metadata": {},
   "outputs": [],
   "source": [
    "end = dt.datetime.now()\n",
    "start = dt.date(end.year - 3,end.month,end.day)\n",
    "ticker = ['1810.HK']"
   ]
  },
  {
   "cell_type": "code",
   "execution_count": 19,
   "id": "b34cc7e4",
   "metadata": {},
   "outputs": [
    {
     "data": {
      "text/html": [
       "<div>\n",
       "<style scoped>\n",
       "    .dataframe tbody tr th:only-of-type {\n",
       "        vertical-align: middle;\n",
       "    }\n",
       "\n",
       "    .dataframe tbody tr th {\n",
       "        vertical-align: top;\n",
       "    }\n",
       "\n",
       "    .dataframe thead th {\n",
       "        text-align: right;\n",
       "    }\n",
       "</style>\n",
       "<table border=\"1\" class=\"dataframe\">\n",
       "  <thead>\n",
       "    <tr style=\"text-align: right;\">\n",
       "      <th>Symbols</th>\n",
       "      <th>1810.HK</th>\n",
       "    </tr>\n",
       "    <tr>\n",
       "      <th>Date</th>\n",
       "      <th></th>\n",
       "    </tr>\n",
       "  </thead>\n",
       "  <tbody>\n",
       "    <tr>\n",
       "      <th>2018-11-28</th>\n",
       "      <td>14.50</td>\n",
       "    </tr>\n",
       "    <tr>\n",
       "      <th>2018-11-29</th>\n",
       "      <td>14.20</td>\n",
       "    </tr>\n",
       "    <tr>\n",
       "      <th>2018-11-30</th>\n",
       "      <td>14.28</td>\n",
       "    </tr>\n",
       "    <tr>\n",
       "      <th>2018-12-03</th>\n",
       "      <td>14.86</td>\n",
       "    </tr>\n",
       "    <tr>\n",
       "      <th>2018-12-04</th>\n",
       "      <td>14.64</td>\n",
       "    </tr>\n",
       "  </tbody>\n",
       "</table>\n",
       "</div>"
      ],
      "text/plain": [
       "Symbols     1810.HK\n",
       "Date               \n",
       "2018-11-28    14.50\n",
       "2018-11-29    14.20\n",
       "2018-11-30    14.28\n",
       "2018-12-03    14.86\n",
       "2018-12-04    14.64"
      ]
     },
     "execution_count": 19,
     "metadata": {},
     "output_type": "execute_result"
    }
   ],
   "source": [
    "stock_prices = reader.get_data_yahoo(ticker, start, end)['Adj Close']\n",
    "stock_prices.head()"
   ]
  },
  {
   "cell_type": "code",
   "execution_count": 30,
   "id": "32e67323",
   "metadata": {},
   "outputs": [
    {
     "data": {
      "text/html": [
       "<div>\n",
       "<style scoped>\n",
       "    .dataframe tbody tr th:only-of-type {\n",
       "        vertical-align: middle;\n",
       "    }\n",
       "\n",
       "    .dataframe tbody tr th {\n",
       "        vertical-align: top;\n",
       "    }\n",
       "\n",
       "    .dataframe thead th {\n",
       "        text-align: right;\n",
       "    }\n",
       "</style>\n",
       "<table border=\"1\" class=\"dataframe\">\n",
       "  <thead>\n",
       "    <tr style=\"text-align: right;\">\n",
       "      <th>Symbols</th>\n",
       "      <th>1810.HK</th>\n",
       "    </tr>\n",
       "    <tr>\n",
       "      <th>Date</th>\n",
       "      <th></th>\n",
       "    </tr>\n",
       "  </thead>\n",
       "  <tbody>\n",
       "    <tr>\n",
       "      <th>2018-12-31</th>\n",
       "      <td>12.94</td>\n",
       "    </tr>\n",
       "    <tr>\n",
       "      <th>2019-01-31</th>\n",
       "      <td>10.10</td>\n",
       "    </tr>\n",
       "    <tr>\n",
       "      <th>2019-02-28</th>\n",
       "      <td>11.92</td>\n",
       "    </tr>\n",
       "    <tr>\n",
       "      <th>2019-03-31</th>\n",
       "      <td>11.38</td>\n",
       "    </tr>\n",
       "    <tr>\n",
       "      <th>2019-04-30</th>\n",
       "      <td>12.02</td>\n",
       "    </tr>\n",
       "  </tbody>\n",
       "</table>\n",
       "</div>"
      ],
      "text/plain": [
       "Symbols     1810.HK\n",
       "Date               \n",
       "2018-12-31    12.94\n",
       "2019-01-31    10.10\n",
       "2019-02-28    11.92\n",
       "2019-03-31    11.38\n",
       "2019-04-30    12.02"
      ]
     },
     "execution_count": 30,
     "metadata": {},
     "output_type": "execute_result"
    }
   ],
   "source": [
    "stock_prices = stock_prices.resample('1M').last()\n",
    "stock_prices.head()"
   ]
  },
  {
   "cell_type": "code",
   "execution_count": 31,
   "id": "1fb652ac",
   "metadata": {},
   "outputs": [
    {
     "data": {
      "text/html": [
       "<div>\n",
       "<style scoped>\n",
       "    .dataframe tbody tr th:only-of-type {\n",
       "        vertical-align: middle;\n",
       "    }\n",
       "\n",
       "    .dataframe tbody tr th {\n",
       "        vertical-align: top;\n",
       "    }\n",
       "\n",
       "    .dataframe thead th {\n",
       "        text-align: right;\n",
       "    }\n",
       "</style>\n",
       "<table border=\"1\" class=\"dataframe\">\n",
       "  <thead>\n",
       "    <tr style=\"text-align: right;\">\n",
       "      <th>Symbols</th>\n",
       "      <th>1810.HK</th>\n",
       "    </tr>\n",
       "    <tr>\n",
       "      <th>Date</th>\n",
       "      <th></th>\n",
       "    </tr>\n",
       "  </thead>\n",
       "  <tbody>\n",
       "    <tr>\n",
       "      <th>2019-01-31</th>\n",
       "      <td>-0.219474</td>\n",
       "    </tr>\n",
       "    <tr>\n",
       "      <th>2019-02-28</th>\n",
       "      <td>0.180198</td>\n",
       "    </tr>\n",
       "    <tr>\n",
       "      <th>2019-03-31</th>\n",
       "      <td>-0.045302</td>\n",
       "    </tr>\n",
       "    <tr>\n",
       "      <th>2019-04-30</th>\n",
       "      <td>0.056239</td>\n",
       "    </tr>\n",
       "    <tr>\n",
       "      <th>2019-05-31</th>\n",
       "      <td>-0.187188</td>\n",
       "    </tr>\n",
       "  </tbody>\n",
       "</table>\n",
       "</div>"
      ],
      "text/plain": [
       "Symbols      1810.HK\n",
       "Date                \n",
       "2019-01-31 -0.219474\n",
       "2019-02-28  0.180198\n",
       "2019-03-31 -0.045302\n",
       "2019-04-30  0.056239\n",
       "2019-05-31 -0.187188"
      ]
     },
     "execution_count": 31,
     "metadata": {},
     "output_type": "execute_result"
    }
   ],
   "source": [
    "stock_returns = stock_prices.pct_change()\n",
    "stock_returns = stock_returns.dropna()\n",
    "stock_returns.head()"
   ]
  },
  {
   "cell_type": "code",
   "execution_count": 45,
   "id": "534a939b",
   "metadata": {},
   "outputs": [
    {
     "data": {
      "text/html": [
       "<div>\n",
       "<style scoped>\n",
       "    .dataframe tbody tr th:only-of-type {\n",
       "        vertical-align: middle;\n",
       "    }\n",
       "\n",
       "    .dataframe tbody tr th {\n",
       "        vertical-align: top;\n",
       "    }\n",
       "\n",
       "    .dataframe thead th {\n",
       "        text-align: right;\n",
       "    }\n",
       "</style>\n",
       "<table border=\"1\" class=\"dataframe\">\n",
       "  <thead>\n",
       "    <tr style=\"text-align: right;\">\n",
       "      <th></th>\n",
       "      <th>Mkt-RF</th>\n",
       "      <th>SMB</th>\n",
       "      <th>HML</th>\n",
       "      <th>RF</th>\n",
       "    </tr>\n",
       "    <tr>\n",
       "      <th>Date</th>\n",
       "      <th></th>\n",
       "      <th></th>\n",
       "      <th></th>\n",
       "      <th></th>\n",
       "    </tr>\n",
       "  </thead>\n",
       "  <tbody>\n",
       "    <tr>\n",
       "      <th>1926-07-31</th>\n",
       "      <td>0.0296</td>\n",
       "      <td>-0.0238</td>\n",
       "      <td>-0.0273</td>\n",
       "      <td>0.0022</td>\n",
       "    </tr>\n",
       "    <tr>\n",
       "      <th>1926-08-31</th>\n",
       "      <td>0.0264</td>\n",
       "      <td>-0.0147</td>\n",
       "      <td>0.0414</td>\n",
       "      <td>0.0025</td>\n",
       "    </tr>\n",
       "    <tr>\n",
       "      <th>1926-09-30</th>\n",
       "      <td>0.0036</td>\n",
       "      <td>-0.0139</td>\n",
       "      <td>0.0012</td>\n",
       "      <td>0.0023</td>\n",
       "    </tr>\n",
       "    <tr>\n",
       "      <th>1926-10-31</th>\n",
       "      <td>-0.0324</td>\n",
       "      <td>-0.0013</td>\n",
       "      <td>0.0065</td>\n",
       "      <td>0.0032</td>\n",
       "    </tr>\n",
       "    <tr>\n",
       "      <th>1926-11-30</th>\n",
       "      <td>0.0253</td>\n",
       "      <td>-0.0016</td>\n",
       "      <td>-0.0038</td>\n",
       "      <td>0.0031</td>\n",
       "    </tr>\n",
       "    <tr>\n",
       "      <th>...</th>\n",
       "      <td>...</td>\n",
       "      <td>...</td>\n",
       "      <td>...</td>\n",
       "      <td>...</td>\n",
       "    </tr>\n",
       "    <tr>\n",
       "      <th>2021-06-30</th>\n",
       "      <td>0.0275</td>\n",
       "      <td>0.0180</td>\n",
       "      <td>-0.0776</td>\n",
       "      <td>0.0000</td>\n",
       "    </tr>\n",
       "    <tr>\n",
       "      <th>2021-07-31</th>\n",
       "      <td>0.0127</td>\n",
       "      <td>-0.0396</td>\n",
       "      <td>-0.0175</td>\n",
       "      <td>0.0000</td>\n",
       "    </tr>\n",
       "    <tr>\n",
       "      <th>2021-08-31</th>\n",
       "      <td>0.0290</td>\n",
       "      <td>-0.0048</td>\n",
       "      <td>-0.0013</td>\n",
       "      <td>0.0000</td>\n",
       "    </tr>\n",
       "    <tr>\n",
       "      <th>2021-09-30</th>\n",
       "      <td>-0.0437</td>\n",
       "      <td>0.0080</td>\n",
       "      <td>0.0509</td>\n",
       "      <td>0.0000</td>\n",
       "    </tr>\n",
       "    <tr>\n",
       "      <th>2021-10-31</th>\n",
       "      <td>0.0665</td>\n",
       "      <td>-0.0228</td>\n",
       "      <td>-0.0045</td>\n",
       "      <td>0.0000</td>\n",
       "    </tr>\n",
       "  </tbody>\n",
       "</table>\n",
       "<p>1144 rows × 4 columns</p>\n",
       "</div>"
      ],
      "text/plain": [
       "            Mkt-RF     SMB     HML      RF\n",
       "Date                                      \n",
       "1926-07-31  0.0296 -0.0238 -0.0273  0.0022\n",
       "1926-08-31  0.0264 -0.0147  0.0414  0.0025\n",
       "1926-09-30  0.0036 -0.0139  0.0012  0.0023\n",
       "1926-10-31 -0.0324 -0.0013  0.0065  0.0032\n",
       "1926-11-30  0.0253 -0.0016 -0.0038  0.0031\n",
       "...            ...     ...     ...     ...\n",
       "2021-06-30  0.0275  0.0180 -0.0776  0.0000\n",
       "2021-07-31  0.0127 -0.0396 -0.0175  0.0000\n",
       "2021-08-31  0.0290 -0.0048 -0.0013  0.0000\n",
       "2021-09-30 -0.0437  0.0080  0.0509  0.0000\n",
       "2021-10-31  0.0665 -0.0228 -0.0045  0.0000\n",
       "\n",
       "[1144 rows x 4 columns]"
      ]
     },
     "execution_count": 45,
     "metadata": {},
     "output_type": "execute_result"
    }
   ],
   "source": [
    "ff3_monthly = pd.DataFrame(gff.famaFrench3Factor(frequency='m'))\n",
    "ff3_monthly.rename(columns={'date_ff_factors':'Date'}, inplace=True)\n",
    "ff3_monthly.set_index('Date', inplace = True)\n",
    "ff3_monthly"
   ]
  },
  {
   "cell_type": "code",
   "execution_count": 46,
   "id": "1d14ad5b",
   "metadata": {},
   "outputs": [
    {
     "data": {
      "text/html": [
       "<div>\n",
       "<style scoped>\n",
       "    .dataframe tbody tr th:only-of-type {\n",
       "        vertical-align: middle;\n",
       "    }\n",
       "\n",
       "    .dataframe tbody tr th {\n",
       "        vertical-align: top;\n",
       "    }\n",
       "\n",
       "    .dataframe thead th {\n",
       "        text-align: right;\n",
       "    }\n",
       "</style>\n",
       "<table border=\"1\" class=\"dataframe\">\n",
       "  <thead>\n",
       "    <tr style=\"text-align: right;\">\n",
       "      <th></th>\n",
       "      <th>Mkt-RF</th>\n",
       "      <th>SMB</th>\n",
       "      <th>HML</th>\n",
       "      <th>RF</th>\n",
       "      <th>Xiaomi</th>\n",
       "    </tr>\n",
       "    <tr>\n",
       "      <th>Date</th>\n",
       "      <th></th>\n",
       "      <th></th>\n",
       "      <th></th>\n",
       "      <th></th>\n",
       "      <th></th>\n",
       "    </tr>\n",
       "  </thead>\n",
       "  <tbody>\n",
       "    <tr>\n",
       "      <th>2019-01-31</th>\n",
       "      <td>0.0841</td>\n",
       "      <td>0.0290</td>\n",
       "      <td>-0.0044</td>\n",
       "      <td>0.0021</td>\n",
       "      <td>-0.219474</td>\n",
       "    </tr>\n",
       "    <tr>\n",
       "      <th>2019-02-28</th>\n",
       "      <td>0.0340</td>\n",
       "      <td>0.0204</td>\n",
       "      <td>-0.0268</td>\n",
       "      <td>0.0018</td>\n",
       "      <td>0.180198</td>\n",
       "    </tr>\n",
       "    <tr>\n",
       "      <th>2019-03-31</th>\n",
       "      <td>0.0110</td>\n",
       "      <td>-0.0298</td>\n",
       "      <td>-0.0405</td>\n",
       "      <td>0.0019</td>\n",
       "      <td>-0.045302</td>\n",
       "    </tr>\n",
       "    <tr>\n",
       "      <th>2019-04-30</th>\n",
       "      <td>0.0396</td>\n",
       "      <td>-0.0174</td>\n",
       "      <td>0.0217</td>\n",
       "      <td>0.0021</td>\n",
       "      <td>0.056239</td>\n",
       "    </tr>\n",
       "    <tr>\n",
       "      <th>2019-05-31</th>\n",
       "      <td>-0.0694</td>\n",
       "      <td>-0.0134</td>\n",
       "      <td>-0.0237</td>\n",
       "      <td>0.0021</td>\n",
       "      <td>-0.187188</td>\n",
       "    </tr>\n",
       "  </tbody>\n",
       "</table>\n",
       "</div>"
      ],
      "text/plain": [
       "            Mkt-RF     SMB     HML      RF    Xiaomi\n",
       "Date                                                \n",
       "2019-01-31  0.0841  0.0290 -0.0044  0.0021 -0.219474\n",
       "2019-02-28  0.0340  0.0204 -0.0268  0.0018  0.180198\n",
       "2019-03-31  0.0110 -0.0298 -0.0405  0.0019 -0.045302\n",
       "2019-04-30  0.0396 -0.0174  0.0217  0.0021  0.056239\n",
       "2019-05-31 -0.0694 -0.0134 -0.0237  0.0021 -0.187188"
      ]
     },
     "execution_count": 46,
     "metadata": {},
     "output_type": "execute_result"
    }
   ],
   "source": [
    "stock_returns.rename(columns={'1810.HK':'Xiaomi'}, inplace=True)\n",
    "data = ff3_monthly.merge(stock_returns, on = 'Date')\n",
    "data.head()"
   ]
  },
  {
   "cell_type": "code",
   "execution_count": 48,
   "id": "1b29b8b6",
   "metadata": {},
   "outputs": [
    {
     "data": {
      "text/html": [
       "<div>\n",
       "<style scoped>\n",
       "    .dataframe tbody tr th:only-of-type {\n",
       "        vertical-align: middle;\n",
       "    }\n",
       "\n",
       "    .dataframe tbody tr th {\n",
       "        vertical-align: top;\n",
       "    }\n",
       "\n",
       "    .dataframe thead th {\n",
       "        text-align: right;\n",
       "    }\n",
       "</style>\n",
       "<table border=\"1\" class=\"dataframe\">\n",
       "  <thead>\n",
       "    <tr style=\"text-align: right;\">\n",
       "      <th></th>\n",
       "      <th>Mkt-RF</th>\n",
       "      <th>SMB</th>\n",
       "      <th>HML</th>\n",
       "      <th>RF</th>\n",
       "      <th>Xiaomi</th>\n",
       "      <th>Xiaomi - RF</th>\n",
       "    </tr>\n",
       "    <tr>\n",
       "      <th>Date</th>\n",
       "      <th></th>\n",
       "      <th></th>\n",
       "      <th></th>\n",
       "      <th></th>\n",
       "      <th></th>\n",
       "      <th></th>\n",
       "    </tr>\n",
       "  </thead>\n",
       "  <tbody>\n",
       "    <tr>\n",
       "      <th>2019-01-31</th>\n",
       "      <td>0.0841</td>\n",
       "      <td>0.0290</td>\n",
       "      <td>-0.0044</td>\n",
       "      <td>0.0021</td>\n",
       "      <td>-0.219474</td>\n",
       "      <td>-0.221574</td>\n",
       "    </tr>\n",
       "    <tr>\n",
       "      <th>2019-02-28</th>\n",
       "      <td>0.0340</td>\n",
       "      <td>0.0204</td>\n",
       "      <td>-0.0268</td>\n",
       "      <td>0.0018</td>\n",
       "      <td>0.180198</td>\n",
       "      <td>0.178398</td>\n",
       "    </tr>\n",
       "    <tr>\n",
       "      <th>2019-03-31</th>\n",
       "      <td>0.0110</td>\n",
       "      <td>-0.0298</td>\n",
       "      <td>-0.0405</td>\n",
       "      <td>0.0019</td>\n",
       "      <td>-0.045302</td>\n",
       "      <td>-0.047202</td>\n",
       "    </tr>\n",
       "    <tr>\n",
       "      <th>2019-04-30</th>\n",
       "      <td>0.0396</td>\n",
       "      <td>-0.0174</td>\n",
       "      <td>0.0217</td>\n",
       "      <td>0.0021</td>\n",
       "      <td>0.056239</td>\n",
       "      <td>0.054139</td>\n",
       "    </tr>\n",
       "    <tr>\n",
       "      <th>2019-05-31</th>\n",
       "      <td>-0.0694</td>\n",
       "      <td>-0.0134</td>\n",
       "      <td>-0.0237</td>\n",
       "      <td>0.0021</td>\n",
       "      <td>-0.187188</td>\n",
       "      <td>-0.189288</td>\n",
       "    </tr>\n",
       "  </tbody>\n",
       "</table>\n",
       "</div>"
      ],
      "text/plain": [
       "            Mkt-RF     SMB     HML      RF    Xiaomi  Xiaomi - RF\n",
       "Date                                                             \n",
       "2019-01-31  0.0841  0.0290 -0.0044  0.0021 -0.219474    -0.221574\n",
       "2019-02-28  0.0340  0.0204 -0.0268  0.0018  0.180198     0.178398\n",
       "2019-03-31  0.0110 -0.0298 -0.0405  0.0019 -0.045302    -0.047202\n",
       "2019-04-30  0.0396 -0.0174  0.0217  0.0021  0.056239     0.054139\n",
       "2019-05-31 -0.0694 -0.0134 -0.0237  0.0021 -0.187188    -0.189288"
      ]
     },
     "execution_count": 48,
     "metadata": {},
     "output_type": "execute_result"
    }
   ],
   "source": [
    "XIAOMI_excess_ret = data['Xiaomi'] - data['RF']\n",
    "data['Xiaomi - RF'] = XIAOMI_excess_ret\n",
    "data.head()"
   ]
  },
  {
   "cell_type": "code",
   "execution_count": 49,
   "id": "39462275",
   "metadata": {},
   "outputs": [
    {
     "data": {
      "text/plain": [
       "<AxesSubplot:xlabel='Mkt-RF', ylabel='Xiaomi - RF'>"
      ]
     },
     "execution_count": 49,
     "metadata": {},
     "output_type": "execute_result"
    },
    {
     "data": {
      "image/png": "[encoded data removed]",
      "text/plain": [
       "<Figure size 432x288 with 1 Axes>"
      ]
     },
     "metadata": {
      "needs_background": "light"
     },
     "output_type": "display_data"
    }
   ],
   "source": [
    "sns.regplot(x = 'Mkt-RF', y='Xiaomi - RF', data = data)"
   ]
  },
  {
   "cell_type": "code",
   "execution_count": 51,
   "id": "50e5c937",
   "metadata": {},
   "outputs": [
    {
     "data": {
      "text/html": [
       "<table class=\"simpletable\">\n",
       "<caption>OLS Regression Results</caption>\n",
       "<tr>\n",
       "  <th>Dep. Variable:</th>       <td>Xiaomi - RF</td>   <th>  R-squared:         </th> <td>   0.173</td>\n",
       "</tr>\n",
       "<tr>\n",
       "  <th>Model:</th>                   <td>OLS</td>       <th>  Adj. R-squared:    </th> <td>   0.147</td>\n",
       "</tr>\n",
       "<tr>\n",
       "  <th>Method:</th>             <td>Least Squares</td>  <th>  F-statistic:       </th> <td>   6.699</td>\n",
       "</tr>\n",
       "<tr>\n",
       "  <th>Date:</th>             <td>Sun, 28 Nov 2021</td> <th>  Prob (F-statistic):</th>  <td>0.0144</td> \n",
       "</tr>\n",
       "<tr>\n",
       "  <th>Time:</th>                 <td>19:47:36</td>     <th>  Log-Likelihood:    </th> <td>  19.006</td>\n",
       "</tr>\n",
       "<tr>\n",
       "  <th>No. Observations:</th>      <td>    34</td>      <th>  AIC:               </th> <td>  -34.01</td>\n",
       "</tr>\n",
       "<tr>\n",
       "  <th>Df Residuals:</th>          <td>    32</td>      <th>  BIC:               </th> <td>  -30.96</td>\n",
       "</tr>\n",
       "<tr>\n",
       "  <th>Df Model:</th>              <td>     1</td>      <th>                     </th>     <td> </td>   \n",
       "</tr>\n",
       "<tr>\n",
       "  <th>Covariance Type:</th>      <td>nonrobust</td>    <th>                     </th>     <td> </td>   \n",
       "</tr>\n",
       "</table>\n",
       "<table class=\"simpletable\">\n",
       "<tr>\n",
       "     <td></td>       <th>coef</th>     <th>std err</th>      <th>t</th>      <th>P>|t|</th>  <th>[0.025</th>    <th>0.975]</th>  \n",
       "</tr>\n",
       "<tr>\n",
       "  <th>const</th>  <td> -1.52e-05</td> <td>    0.026</td> <td>   -0.001</td> <td> 1.000</td> <td>   -0.054</td> <td>    0.053</td>\n",
       "</tr>\n",
       "<tr>\n",
       "  <th>Mkt-RF</th> <td>    1.1897</td> <td>    0.460</td> <td>    2.588</td> <td> 0.014</td> <td>    0.253</td> <td>    2.126</td>\n",
       "</tr>\n",
       "</table>\n",
       "<table class=\"simpletable\">\n",
       "<tr>\n",
       "  <th>Omnibus:</th>       <td> 4.758</td> <th>  Durbin-Watson:     </th> <td>   1.788</td>\n",
       "</tr>\n",
       "<tr>\n",
       "  <th>Prob(Omnibus):</th> <td> 0.093</td> <th>  Jarque-Bera (JB):  </th> <td>   3.245</td>\n",
       "</tr>\n",
       "<tr>\n",
       "  <th>Skew:</th>          <td> 0.613</td> <th>  Prob(JB):          </th> <td>   0.197</td>\n",
       "</tr>\n",
       "<tr>\n",
       "  <th>Kurtosis:</th>      <td> 3.888</td> <th>  Cond. No.          </th> <td>    18.8</td>\n",
       "</tr>\n",
       "</table><br/><br/>Notes:<br/>[1] Standard Errors assume that the covariance matrix of the errors is correctly specified."
      ],
      "text/plain": [
       "<class 'statsmodels.iolib.summary.Summary'>\n",
       "\"\"\"\n",
       "                            OLS Regression Results                            \n",
       "==============================================================================\n",
       "Dep. Variable:            Xiaomi - RF   R-squared:                       0.173\n",
       "Model:                            OLS   Adj. R-squared:                  0.147\n",
       "Method:                 Least Squares   F-statistic:                     6.699\n",
       "Date:                Sun, 28 Nov 2021   Prob (F-statistic):             0.0144\n",
       "Time:                        19:47:36   Log-Likelihood:                 19.006\n",
       "No. Observations:                  34   AIC:                            -34.01\n",
       "Df Residuals:                      32   BIC:                            -30.96\n",
       "Df Model:                           1                                         \n",
       "Covariance Type:            nonrobust                                         \n",
       "==============================================================================\n",
       "                 coef    std err          t      P>|t|      [0.025      0.975]\n",
       "------------------------------------------------------------------------------\n",
       "const       -1.52e-05      0.026     -0.001      1.000      -0.054       0.053\n",
       "Mkt-RF         1.1897      0.460      2.588      0.014       0.253       2.126\n",
       "==============================================================================\n",
       "Omnibus:                        4.758   Durbin-Watson:                   1.788\n",
       "Prob(Omnibus):                  0.093   Jarque-Bera (JB):                3.245\n",
       "Skew:                           0.613   Prob(JB):                        0.197\n",
       "Kurtosis:                       3.888   Cond. No.                         18.8\n",
       "==============================================================================\n",
       "\n",
       "Notes:\n",
       "[1] Standard Errors assume that the covariance matrix of the errors is correctly specified.\n",
       "\"\"\""
      ]
     },
     "execution_count": 51,
     "metadata": {},
     "output_type": "execute_result"
    }
   ],
   "source": [
    "X = data['Mkt-RF']\n",
    "y = data['Xiaomi - RF']\n",
    "\n",
    "X1 = sm.add_constant(X)\n",
    "model = sm.OLS(y,X1)\n",
    "\n",
    "results = model.fit()\n",
    "results.summary()"
   ]
  },
  {
   "cell_type": "code",
   "execution_count": 52,
   "id": "3707db77",
   "metadata": {},
   "outputs": [
    {
     "data": {
      "text/plain": [
       "1.1896784201740074"
      ]
     },
     "execution_count": 52,
     "metadata": {},
     "output_type": "execute_result"
    }
   ],
   "source": [
    "intercept, beta = results.params\n",
    "beta"
   ]
  },
  {
   "cell_type": "code",
   "execution_count": 53,
   "id": "92dbf24f",
   "metadata": {},
   "outputs": [
    {
     "data": {
      "text/plain": [
       "0.0007558823529411764"
      ]
     },
     "execution_count": 53,
     "metadata": {},
     "output_type": "execute_result"
    }
   ],
   "source": [
    "risk_free = data['RF'].mean()\n",
    "risk_free"
   ]
  },
  {
   "cell_type": "code",
   "execution_count": 54,
   "id": "a6fd71bc",
   "metadata": {},
   "outputs": [
    {
     "data": {
      "text/plain": [
       "0.020791176470588243"
      ]
     },
     "execution_count": 54,
     "metadata": {},
     "output_type": "execute_result"
    }
   ],
   "source": [
    "market_premium = data['Mkt-RF'].mean()\n",
    "market_premium"
   ]
  },
  {
   "cell_type": "code",
   "execution_count": 55,
   "id": "2d694706",
   "metadata": {},
   "outputs": [
    {
     "data": {
      "text/plain": [
       "0.3058883559603551"
      ]
     },
     "execution_count": 55,
     "metadata": {},
     "output_type": "execute_result"
    }
   ],
   "source": [
    "xiaomi_exp_return = risk_free + beta*market_premium\n",
    "xiaomi_exp_return = xiaomi_exp_return * 12\n",
    "xiaomi_exp_return"
   ]
  },
  {
   "cell_type": "code",
   "execution_count": null,
   "id": "44f93fc6",
   "metadata": {},
   "outputs": [],
   "source": []
  }
 ],
 "metadata": {
  "kernelspec": {
   "display_name": "Python 3 (ipykernel)",
   "language": "python",
   "name": "python3"
  },
  "language_info": {
   "codemirror_mode": {
    "name": "ipython",
    "version": 3
   },
   "file_extension": ".py",
   "mimetype": "text/x-python",
   "name": "python",
   "nbconvert_exporter": "python",
   "pygments_lexer": "ipython3",
   "version": "3.9.7"
  }
 },
 "nbformat": 4,
 "nbformat_minor": 5
}
